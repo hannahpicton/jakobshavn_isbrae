{
 "cells": [
  {
   "cell_type": "markdown",
   "metadata": {},
   "source": [
    "# Ice Discharge "
   ]
  },
  {
   "cell_type": "markdown",
   "metadata": {},
   "source": [
    "This script uses V87 of the 'Greenland Ice Sheet solid ice discharge from 1986 through last month: Discharge' dataset (Mankoff et al., 2020), downloaded from the GEUS dataverse (https://doi.org/10.22008/promice/data/ice_discharge/d/v02). This dataset provides estimated of solid ice discharge through algorithmically generated  glacier flux gates. Jakobshavn Isbrae, the focus of this study, is gate 184. "
   ]
  }
 ],
 "metadata": {
  "language_info": {
   "name": "python"
  }
 },
 "nbformat": 4,
 "nbformat_minor": 2
}
