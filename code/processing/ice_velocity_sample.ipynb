{
 "cells": [
  {
   "cell_type": "markdown",
   "metadata": {},
   "source": [
    "# Ice Velocity Sample \n",
    "This script samples the 6-day and 12-day ITS_LIVE velocity pairs previously downloaded using the 'ice_velocity_download' notebook. Velocity is sampled at specifix X, Y locations specified within the code. "
   ]
  },
  {
   "cell_type": "code",
   "execution_count": 1,
   "metadata": {},
   "outputs": [],
   "source": [
    "# IMPORT REQUIRED MODULES [velocity_sample environment]\n",
    "import os\n",
    "import csv\n",
    "from osgeo import gdal\n",
    "import numpy as np\n",
    "import datetime"
   ]
  },
  {
   "cell_type": "markdown",
   "metadata": {},
   "source": [
    "Provide the directory path to the velocity GeoTIFFs and input the desired directory (including filename) of the output CSV. Provide the X, Y coordinates of your desired sampling location. "
   ]
  },
  {
   "cell_type": "code",
   "execution_count": 2,
   "metadata": {},
   "outputs": [],
   "source": [
    "# DEFINE THE REGION AND PROVIDE THE FILEPATH TO THE GEOTIFFS\n",
    "folder_path = 'R:/JAKOBSHAVN/DATA/ice_surface_velocity/ITS_LIVE_6_DAY/ITS_LIVE_vel_EPSG3413_G0120_X-150000_Y-2250000'\n",
    "\n",
    "# DEFINE THE OUTPUT CSV FILE LOCATION AND NAME\n",
    "csv_file = 'R:/JAKOBSHAVN/DATA/ice_surface_velocity/ITS_LIVE_6_DAY/its_live_sampled_6_12_day.csv'\n",
    "\n",
    "# LIST THE X AND Y CO-ORDINATES AT WHICH VELOCITY SHOULD BE EXTRACTED\n",
    "coordinates = [(-180091.9495, -2278118.175),  \n",
    "    (-176595.9169, -2281533.351),\n",
    "    (-171733.1094, -2280782.72),\n",
    "    (-166897.6833, -2279795.733),\n",
    "    (-161907.8652, -2279370.56),\n",
    "    (-157584.877, -2279370.56),\n",
    "    (-153231.406, -2279370.56),]"
   ]
  },
  {
   "cell_type": "markdown",
   "metadata": {},
   "source": [
    "The following script will output a CSV that includes the sampled velocity. For each value, the corresponding filename from which the velocity was sampled is given. From this filename, the start date, mid date and end date are also extracted."
   ]
  },
  {
   "cell_type": "code",
   "execution_count": 3,
   "metadata": {},
   "outputs": [
    {
     "name": "stdout",
     "output_type": "stream",
     "text": [
      "Data extracted and saved to 'R:/JAKOBSHAVN/DATA/ice_surface_velocity/ITS_LIVE_6_DAY/its_live_sampled_6_12_day.csv'.\n"
     ]
    }
   ],
   "source": [
    "# CREATE A CSV THAT WILL SAMPLE VELOCITY FROM EACH POINT, PROVIDING DETAILS OF THE CORRESPONDING FILENAME, START DATE, END DATE AND MID DATE\n",
    "csv_headers = ['Filename', 'start_date', 'end_date', 'mid_date']\n",
    "for i, (x, y) in enumerate(coordinates, start=1):\n",
    "    csv_headers.append(f'POINT_{i}_VELOCITY')  # Custom column headers for each point's velocity\n",
    "with open(csv_file, 'w', newline='') as csvfile:\n",
    "    csv_writer = csv.writer(csvfile)\n",
    "    csv_writer.writerow(csv_headers)\n",
    "    for filename in os.listdir(folder_path):\n",
    "        if filename.endswith('.tif') or filename.endswith('.tiff'):\n",
    "            file_path = os.path.join(folder_path, filename)\n",
    "            date_parts = filename.split('_')\n",
    "            start_date = date_parts[0]\n",
    "            end_date = date_parts[1]\n",
    "            start_date_obj = datetime.datetime.strptime(start_date, \"%Y-%m-%d\")\n",
    "            end_date_obj = datetime.datetime.strptime(end_date, \"%Y-%m-%d\")\n",
    "            mid_date_obj = start_date_obj + (end_date_obj - start_date_obj) / 2\n",
    "            mid_date = mid_date_obj.strftime(\"%Y/%m/%d\")\n",
    "            dataset = gdal.Open(file_path, gdal.GA_ReadOnly)\n",
    "            if dataset is not None:\n",
    "                values = [filename, start_date, end_date, mid_date]\n",
    "                for x, y in coordinates:\n",
    "                    geotransform = dataset.GetGeoTransform()\n",
    "                    x_pixel = int((x - geotransform[0]) / geotransform[1])\n",
    "                    y_pixel = int((y - geotransform[3]) / geotransform[5])\n",
    "                    band = dataset.GetRasterBand(1)\n",
    "                    value = band.ReadAsArray(x_pixel, y_pixel, 1, 1)[0][0]\n",
    "                    if np.isnan(value):\n",
    "                        value = ''\n",
    "                    values.append(value)\n",
    "                csv_writer.writerow(values)\n",
    "                dataset = None\n",
    "\n",
    "print(f\"Data extracted and saved to '{csv_file}'.\")"
   ]
  }
 ],
 "metadata": {
  "kernelspec": {
   "display_name": "velocity_sample",
   "language": "python",
   "name": "python3"
  },
  "language_info": {
   "codemirror_mode": {
    "name": "ipython",
    "version": 3
   },
   "file_extension": ".py",
   "mimetype": "text/x-python",
   "name": "python",
   "nbconvert_exporter": "python",
   "pygments_lexer": "ipython3",
   "version": "3.10.9"
  }
 },
 "nbformat": 4,
 "nbformat_minor": 2
}
