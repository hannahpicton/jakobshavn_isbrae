{
 "cells": [
  {
   "cell_type": "markdown",
   "metadata": {},
   "source": [
    "# AXCTD Data Processing\n",
    "The following script processes the OMG Airborne eXpendable Conductivity Temperature Depth (AXTCD) data, provided as netCDF files, collected within Ilulissat Icefjord.\n",
    "\n",
    "https://podaac.jpl.nasa.gov/dataset/OMG_L2_AXCTD "
   ]
  },
  {
   "cell_type": "code",
   "execution_count": 13,
   "metadata": {},
   "outputs": [],
   "source": [
    "# IMPORT MODULES\n",
    "import os\n",
    "import xarray as xr\n",
    "import pandas as pd"
   ]
  },
  {
   "cell_type": "code",
   "execution_count": 18,
   "metadata": {},
   "outputs": [],
   "source": [
    "# DEFINE THE DIRECTORY FOR THE NETCDF INPUTS\n",
    "input_folder = 'R:/JAKOBSHAVN/CODE/github/jakobshavn_isbrae/data/ilulissat_icefjord_AXCTD'\n",
    "\n",
    "# DEFINE THE DIRECTORY FOR THE CSV OUTPUTS\n",
    "output_directory = 'R:/JAKOBSHAVN/CODE/github/jakobshavn_isbrae/data/ilulissat_icefjord_AXCTD'"
   ]
  },
  {
   "cell_type": "code",
   "execution_count": 19,
   "metadata": {},
   "outputs": [],
   "source": [
    "# DEFINE FUNCTION 1 - EXTRACT DATA FROM EACH NETCDF AND EXPORT TO A CSV.\n",
    "def process_netcdf_axctd(nc_file, output_dir):\n",
    "    ds = xr.open_dataset(nc_file) # Open the netCDF file using xarray\n",
    "    ds = ds.squeeze() # Squeeze the dataset as only one profile is provided per netCDF\n",
    "\n",
    "    # Extract the desired variables \n",
    "    lon = ds['lon'].values \n",
    "    lat = ds['lat'].values\n",
    "    date = pd.to_datetime(ds['time'].values)\n",
    "    date_formatted = date.strftime('%d/%m/%Y')\n",
    "    depth = ds['depth'].values\n",
    "    temperature = ds['temperature'].values\n",
    "    salinity = ds['salinity'].values\n",
    "    \n",
    "    # Create a dataframe containing the desired variables \n",
    "    df = pd.DataFrame({\n",
    "        'lon': lon,\n",
    "        'lat': lat,\n",
    "        'date': date_formatted,\n",
    "        'depth': depth,\n",
    "        'temperature': temperature,\n",
    "        'salinity': salinity})\n",
    "\n",
    "    output_csv = os.path.join(output_dir, f\"{os.path.splitext(os.path.basename(nc_file))[0]}.csv\") # Save the dataframe as a csv with the same filenmae\n",
    "    df.to_csv(output_csv, index=False)\n",
    "    ds.close()"
   ]
  },
  {
   "cell_type": "code",
   "execution_count": 20,
   "metadata": {},
   "outputs": [
    {
     "name": "stdout",
     "output_type": "stream",
     "text": [
      "OMG AXCTD CSV files created successfully.\n"
     ]
    }
   ],
   "source": [
    "# Loop through each netCDF file in the directory and convert to a CSV \n",
    "for root, dirs, files in os.walk(input_folder):\n",
    "    for file in files:\n",
    "        if file.endswith('.nc'):\n",
    "            nc_file = os.path.join(root, file)\n",
    "            process_netcdf_axctd(nc_file, output_directory)\n",
    "\n",
    "print(\"OMG AXCTD CSV files created successfully.\")"
   ]
  }
 ],
 "metadata": {
  "kernelspec": {
   "display_name": "velocity_download",
   "language": "python",
   "name": "python3"
  },
  "language_info": {
   "codemirror_mode": {
    "name": "ipython",
    "version": 3
   },
   "file_extension": ".py",
   "mimetype": "text/x-python",
   "name": "python",
   "nbconvert_exporter": "python",
   "pygments_lexer": "ipython3",
   "version": "3.11.4"
  }
 },
 "nbformat": 4,
 "nbformat_minor": 2
}
