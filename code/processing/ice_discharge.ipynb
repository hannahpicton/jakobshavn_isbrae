{
 "cells": [
  {
   "cell_type": "markdown",
   "metadata": {},
   "source": [
    "# Ice Discharge\n",
    "This script uses V87 of the 'Greenland Ice Sheet solid ice discharge from 1986 through last month: Discharge' dataset (Mankoff et al., 2020), downloaded from the GEUS dataverse (https://doi.org/10.22008/promice/data/ice_discharge/d/v02). This dataset provides estimated of solid ice discharge through algorithmically generated  glacier flux gates. \n",
    "\n",
    "Jakobshavn Isbrae, the focus of this study, is represented by Gate 184. "
   ]
  },
  {
   "cell_type": "code",
   "execution_count": null,
   "metadata": {},
   "outputs": [],
   "source": [
    "# IMPORT REQUIRED MODULES \n",
    "import pandas as pd\n",
    "import matplotlib.pyplot as plt\n",
    "import matplotlib.dates as mdates\n",
    "import numpy as np\n",
    "\n",
    "# DEFINE THE MANKOFF CSV FILES TO COMBINE. \n",
    "csv_files = ['R:/JAKOBSHAVN/CODE/github/jakobshavn_isbrae/data/ice_discharge_mankoff_2020/gate_D.csv',\n",
    " 'R:/JAKOBSHAVN/CODE/github/jakobshavn_isbrae/data/ice_discharge_mankoff_2020/gate_err.csv',\n",
    " 'R:/JAKOBSHAVN/CODE/github/jakobshavn_isbrae/data/ice_discharge_mankoff_2020/gate_coverage.csv']\n",
    "\n",
    "# Define the name of the new CSV file to store the extracted data\n",
    "output_file = 'R:/JAKOBSHAVN/CODE/github/jakobshavn_isbrae/data/ice_discharge_mankoff_2020/jakobshavn_g184_discharge_2018_2023.csv'"
   ]
  },
  {
   "cell_type": "markdown",
   "metadata": {},
   "source": [
    "Extract the discharge, error and coverage data for Gate 184 (Jakobshavn Isbrae), between 2018 and 2023. \n",
    "\n",
    "This data is saved to a new CSV, 'jakobshavn_g184_discharge_2018_2023.csv', which is saved to the 'ice_discharge_mankoff_2020' folder."
   ]
  },
  {
   "cell_type": "code",
   "execution_count": null,
   "metadata": {},
   "outputs": [],
   "source": [
    "extracted_data = pd.DataFrame() \n",
    "for file in csv_files:\n",
    "    df = pd.read_csv(file) \n",
    "    if '184' in df.columns:\n",
    "        if 'gate_coverage' in file:\n",
    "            extracted_data['coverage'] = df['184']\n",
    "        elif 'gate_D' in file:\n",
    "            extracted_data['discharge'] = df['184']\n",
    "        elif 'gate_err' in file:\n",
    "            extracted_data['error'] = df['184']\n",
    "        date_column = [col for col in df.columns if 'date' in col.lower()]\n",
    "        if date_column:\n",
    "            extracted_data['date'] = pd.to_datetime(df[date_column[0]], format='%Y/%m/%d')\n",
    "\n",
    "extracted_data = extracted_data[(extracted_data['date'] >= '2018-01-01') & (extracted_data['date'] <= '2022-12-31')]\n",
    "extracted_data = extracted_data[['date', 'discharge', 'error', 'coverage']]\n",
    "extracted_data.to_csv(output_file, index=False)\n",
    "\n",
    "print(f'Data between 2018-01-01 and 2022-12-31 from the \"184\" column and date column of {len(csv_files)} CSV files has been extracted, filtered, ordered, and saved to {output_file} with named columns and date format.')"
   ]
  }
 ],
 "metadata": {
  "language_info": {
   "name": "python"
  }
 },
 "nbformat": 4,
 "nbformat_minor": 2
}
