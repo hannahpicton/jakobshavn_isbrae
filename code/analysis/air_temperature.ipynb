{
 "cells": [
  {
   "cell_type": "code",
   "execution_count": 124,
   "metadata": {},
   "outputs": [],
   "source": [
    "# IMPORT MODULES \n",
    "import pandas as pd\n",
    "import matplotlib.pyplot as plt\n",
    "import matplotlib.dates as mdates\n",
    "import matplotlib.ticker as ticker\n",
    "from matplotlib.colors import LinearSegmentedColormap\n",
    "from matplotlib.cm import ScalarMappable\n",
    "import numpy as np \n",
    "import datetime"
   ]
  },
  {
   "cell_type": "code",
   "execution_count": 125,
   "metadata": {},
   "outputs": [],
   "source": [
    "# OPEN THE AASIAAT EGEDESMINDE MONTHLY TEMPERATURE CSV. SUBSET TO 1980-2023 AND REMOVE NaN VALUES (999.9)\n",
    "ae_temperature = pd.read_csv('R:/JAKOBSHAVN/CODE/github/jakobshavn_isbrae/data/aasiaat_egedesminde_temps.csv')\n",
    "ae_temperature = ae_temperature[(ae_temperature['YEAR'] >= 1980) & (ae_temperature['YEAR'] <= 2022)]\n",
    "ae_temperature.replace(999.9, np.nan, inplace=True)\n",
    "\n",
    "# CALCULATE MEAN MONTHLY TEMPERATURE BETWEEN 1980 AND 2018 \n",
    "ae_temp_1980_2018 = ae_temperature[(ae_temperature['YEAR'] >= 1980) & (ae_temperature['YEAR'] <= 2017)]\n",
    "mean_temp_1980_2018 = ae_temp_1980_2018[['JAN', 'FEB', 'MAR', 'APR', 'MAY', 'JUN', 'JUL', 'AUG', 'SEP', 'OCT', 'NOV', 'DEC']].mean()\n",
    "\n",
    "# FOR 2018-2023, CALCULATE THE MONTHLY ANOMALY, RELATIVE TO THE 1980-2018 MEAN\n",
    "ae_temp_2018_to_2023 = ae_temperature[ae_temperature['YEAR'].isin([2018, 2019, 2020, 2021, 2022])]\n",
    "anomaly_2018_2023 = ae_temp_2018_to_2023[['YEAR', 'JAN', 'FEB', 'MAR', 'APR', 'MAY', 'JUN', 'JUL', 'AUG', 'SEP', 'OCT', 'NOV', 'DEC']].copy()\n",
    "for month in ['JAN', 'FEB', 'MAR', 'APR', 'MAY', 'JUN', 'JUL', 'AUG', 'SEP', 'OCT', 'NOV', 'DEC']:\n",
    "    anomaly_2018_2023[month] -= mean_temp_1980_2018[month]\n",
    "\n",
    "# REFORMAT THE MONTH HEADINGS TO DATETIME OBJECTS \n",
    "months = pd.to_datetime(anomaly_2018_2023.columns[1:], format='%b')\n",
    "anomaly_2018_2023.columns = ['YEAR'] + months.strftime('%b').tolist()\n",
    "\n",
    "# FLATTEN THE DATAFRAME TO TWO COLUMNS (DATE AND ANOMALY)\n",
    "anomaly_2018_2023 = pd.melt(anomaly_2018_2023, id_vars=['YEAR'], var_name='Month', value_name='Anomaly')\n",
    "anomaly_2018_2023['DATE'] = pd.to_datetime(anomaly_2018_2023['YEAR'].astype(str) + '-' + anomaly_2018_2023['Month'], format='%Y-%b')\n",
    "anomaly_2018_2023 = anomaly_2018_2023[['DATE', 'Anomaly']]\n",
    "anomaly_2018_2023 = anomaly_2018_2023.sort_values(by='DATE')"
   ]
  },
  {
   "cell_type": "code",
   "execution_count": 127,
   "metadata": {},
   "outputs": [
    {
     "data": {
      "image/png": "[encoded data removed]",
      "text/plain": [
       "<Figure size 576x288 with 1 Axes>"
      ]
     },
     "metadata": {
      "needs_background": "light"
     },
     "output_type": "display_data"
    }
   ],
   "source": [
    "plt.rcParams[\"font.family\"] = \"Arial\"\n",
    "fig, ax = plt.subplots(figsize=(8, 4))\n",
    "ax.axhline(y=0, color='gray', linestyle='-', linewidth=0.8) \n",
    "plt.grid(axis = 'x', alpha=0.6, linestyle='--')\n",
    "plt.title('Aasiaat Egedesminde', pad=10, fontsize=11, fontweight='bold')\n",
    "plt.ylabel(\"Air temperature anomaly \\n relative to 1980-2018 ($^\\circ$C)\", labelpad=6, fontsize=11)\n",
    "plt.xlabel('Date', labelpad=10, fontsize=11)\n",
    "\n",
    "# FORMAT THE X-AXIS TICK LIMITS  \n",
    "year_locator = mdates.YearLocator(base=1, month=1, day=1)\n",
    "ax.xaxis.set_major_locator(year_locator)\n",
    "ax.xaxis.set_major_formatter(mdates.DateFormatter(\"%Y\"))\n",
    "min_x_value = pd.to_datetime('2018-01-01', format='%Y-%m-%d')\n",
    "max_x_value = pd.to_datetime('2023-01-01', format='%Y-%m-%d')\n",
    "plt.xlim(min_x_value, max_x_value)\n",
    "three_month_intervals = mdates.MonthLocator(interval=3)\n",
    "ax.xaxis.set_minor_locator(three_month_intervals)\n",
    "\n",
    "# SET THE Y AXIS TICK LIMITS, ADDING A '+' BEFORE POSITIVE VALUES \n",
    "plt.ylim(-4, 6)\n",
    "plt.yticks(np.arange(-4, 6+1, 1))\n",
    "def format_positive(value, tick_number):\n",
    "    if value >= 0:\n",
    "        return f'+{value:.1f}'\n",
    "    else:\n",
    "        return f'{value:.1f}'\n",
    "ax.yaxis.set_major_formatter(ticker.FuncFormatter(format_positive))\n",
    "\n",
    "# DEFINE A CUSTOM BLUE & RED COLOUR MAP \n",
    "blue_cmap = LinearSegmentedColormap.from_list('custom_blue', ['#0a4c65', '#caf0f8'], N=256)\n",
    "red_cmap = LinearSegmentedColormap.from_list('custom_red', ['#ffe81a', '#d00000'], N=256)\n",
    "norm = plt.Normalize(anomaly_2018_2023['Anomaly'].min(), anomaly_2018_2023['Anomaly'].max())\n",
    "\n",
    "# PLOT THE DATA WITH THE CUSTOM COLOUR MAPS\n",
    "for index, row in anomaly_2018_2023.iterrows():\n",
    "    anomaly_value = row['Anomaly']\n",
    "    if not pd.isna(anomaly_value):\n",
    "        color = red_cmap(norm(anomaly_value)) if anomaly_value >= 0 else blue_cmap(norm(anomaly_value))\n",
    "        ax.bar(row['DATE'], anomaly_value, width=20, color=color)\n",
    "\n",
    "plt.show()"
   ]
  }
 ],
 "metadata": {
  "kernelspec": {
   "display_name": "velocity_download",
   "language": "python",
   "name": "python3"
  },
  "language_info": {
   "codemirror_mode": {
    "name": "ipython",
    "version": 3
   },
   "file_extension": ".py",
   "mimetype": "text/x-python",
   "name": "python",
   "nbconvert_exporter": "python",
   "pygments_lexer": "ipython3",
   "version": "3.11.4"
  }
 },
 "nbformat": 4,
 "nbformat_minor": 2
}
