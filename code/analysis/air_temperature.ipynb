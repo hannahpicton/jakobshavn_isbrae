{
 "cells": [
  {
   "cell_type": "markdown",
   "metadata": {},
   "source": [
    "### Monthly Air Temperature Anomaly (Ilulissat Mittarfik)"
   ]
  },
  {
   "cell_type": "code",
   "execution_count": 1,
   "metadata": {},
   "outputs": [],
   "source": [
    "# IMPORT MODULES\n",
    "import pandas as pd\n",
    "import matplotlib.pyplot as plt\n",
    "import matplotlib.dates as mdates\n",
    "import matplotlib.ticker as ticker\n",
    "import numpy as np \n",
    "import datetime\n",
    "from matplotlib.colors import LinearSegmentedColormap\n",
    "from matplotlib.cm import ScalarMappable"
   ]
  },
  {
   "cell_type": "code",
   "execution_count": 31,
   "metadata": {},
   "outputs": [],
   "source": [
    "# Open the Ilulissat Weather Station (422100) Data\n",
    "ilulissat_data = pd.read_csv('R:/JAKOBSHAVN/CODE/github/jakobshavn_isbrae/data/422100_ilulissat_air_temp.csv', sep = ';')\n",
    "\n",
    "# Define the date and mean air temperature variables, as specified in (https://www.dmi.dk/fileadmin/Rapporter/2023/DMIRep23-08.pdf)\n",
    "ilulissat_data = ilulissat_data.drop(['Station', '112', '113', '122', '123', '201', '301','305', '365', '371', '401', '504', '550', '601', '603', '609', '801'], axis=1)\n",
    "ilulissat_data = ilulissat_data.rename(columns={'101': 'mean_air_temp'})\n",
    "ilulissat_data['Date'] = pd.to_datetime(ilulissat_data[['Year', 'Month', 'Day']]) # Extract the 'Date' from the Year, Month, Day columns\n",
    "column_order = ['Date', 'Year', 'Month', 'Day', 'Hour(utc)', 'mean_air_temp'] # Define the column order\n",
    "ilulissat_data = ilulissat_data[column_order]\n",
    "\n",
    "# Extract the dataframe between 1992 and 2023\n",
    "ilulissat_data = ilulissat_data.loc[(ilulissat_data['Date'] >= '1992-01-01') & (ilulissat_data['Date'] <= '2023-01-01')]"
   ]
  },
  {
   "cell_type": "markdown",
   "metadata": {},
   "source": [
    "More recent observations are provided at an hourly resolution, however earlier observations are provided every three hours. To keep the temporal resolution consistent throughout the time series, we therefore sample all data at a three hour resolution."
   ]
  },
  {
   "cell_type": "code",
   "execution_count": 32,
   "metadata": {},
   "outputs": [
    {
     "name": "stdout",
     "output_type": "stream",
     "text": [
      "Total number of deleted dates with < 4 daily observations: 53\n"
     ]
    }
   ],
   "source": [
    "# To keep the temporal sampling consistent across the time-series, extract observational data every three hours.\n",
    "selected_hours = [0, 3, 6, 9, 12, 15, 18, 21]\n",
    "ilulissat_3_hours = ilulissat_data[ilulissat_data['Hour(utc)'].isin(selected_hours)]\n",
    "\n",
    "# For each given day, count the number of observations available. If there are less than 4 observations on a given day (i.e. 12 hours), delete all data for that given date. \n",
    "observations_per_day = ilulissat_3_hours.groupby('Date').size().reset_index(name='Observation Count')\n",
    "filtered_df = ilulissat_3_hours[ilulissat_3_hours['Date'].isin(observations_per_day[observations_per_day['Observation Count'] >= 4]['Date'])]\n",
    "deleted_dates_count = len(pd.unique(ilulissat_3_hours['Date'])) - len(pd.unique(filtered_df['Date']))\n",
    "print(f'Total number of deleted dates with < 4 daily observations: {deleted_dates_count}')"
   ]
  },
  {
   "cell_type": "code",
   "execution_count": 33,
   "metadata": {},
   "outputs": [
    {
     "name": "stdout",
     "output_type": "stream",
     "text": [
      "        Date  mean_air_temp\n",
      "0 1992-01-01     -19.100000\n",
      "1 1992-01-02     -23.157143\n",
      "2 1992-01-03     -21.962500\n",
      "3 1992-01-04     -19.514286\n",
      "4 1992-01-05     -18.737500\n"
     ]
    }
   ],
   "source": [
    "# For all days with more than 4 observations, calculate the mean daily temperature.\n",
    "filtered_df.set_index('Date', inplace=True)\n",
    "mean_air_temp_daily = filtered_df.resample('D').mean()\n",
    "mean_air_temp_daily = mean_air_temp_daily[['mean_air_temp']].reset_index()\n",
    "print(mean_air_temp_daily.head())"
   ]
  },
  {
   "cell_type": "code",
   "execution_count": 86,
   "metadata": {},
   "outputs": [
    {
     "data": {
      "image/png": "[encoded data removed]",
      "text/plain": [
       "<Figure size 576x288 with 1 Axes>"
      ]
     },
     "metadata": {
      "needs_background": "light"
     },
     "output_type": "display_data"
    },
    {
     "name": "stdout",
     "output_type": "stream",
     "text": [
      "Number of months with less than 25 observations: 8\n",
      "\n",
      "   Year  Month  No_daily_obs  mean_air_temp       Date\n",
      "0  1992      1            29     -12.662746 1992-01-01\n",
      "1  1992      2            29     -26.664183 1992-02-01\n",
      "2  1992      3            29     -23.227118 1992-03-01\n",
      "3  1992      4            30     -11.580774 1992-04-01\n",
      "4  1992      5            31      -4.835445 1992-05-01\n"
     ]
    }
   ],
   "source": [
    "# Using the daily mean air temperature dataframe, calculate the number of observations within a given month\n",
    "mean_air_temp_daily['Year'] = mean_air_temp_daily['Date'].dt.year\n",
    "mean_air_temp_daily['Month'] = mean_air_temp_daily['Date'].dt.month\n",
    "mean_air_temp_daily = mean_air_temp_daily.dropna()\n",
    "monthly_counts = mean_air_temp_daily.groupby(['Year', 'Month']).size().reset_index(name='No_daily_obs')\n",
    "\n",
    "# Plot the number of observations within a given month\n",
    "plt.figure(figsize=(8, 4))\n",
    "plt.scatter(monthly_counts['Year'] + monthly_counts['Month'] / 12, monthly_counts['No_daily_obs'], marker='o', s=5)\n",
    "plt.xlabel('Year')\n",
    "plt.ylabel('Number of daily observations \\n in a given month', labelpad=8)\n",
    "plt.xticks(range(1992, 2025, 4)) \n",
    "plt.yticks(range(0, 34, 3)) \n",
    "plt.axhline(y=25, color='gray', linestyle='-', linewidth=0.8) # Add a horizontal line at 25\n",
    "plt.show()\n",
    "\n",
    "# Count and print the number of months with less than 25 daily observations. \n",
    "less_than_25_obs_months = monthly_counts[monthly_counts['No_daily_obs'] < 25]\n",
    "print(f\"Number of months with less than 25 observations: {len(less_than_25_obs_months)}\")\n",
    "print() \n",
    "\n",
    "# Calculate the mean monthly air temperature. Delete any months that have less than 25 daily observations.\n",
    "mean_air_temp_monthly = mean_air_temp_daily.groupby(['Year', 'Month'])['mean_air_temp'].mean().reset_index()\n",
    "mean_air_temp_monthly = pd.merge(monthly_counts, mean_air_temp_monthly, on=['Year', 'Month'])\n",
    "mean_air_temp_monthly = mean_air_temp_monthly[mean_air_temp_monthly['No_daily_obs'] >= 25]\n",
    "mean_air_temp_monthly['Date'] = pd.to_datetime(mean_air_temp_monthly[['Year', 'Month']].assign(DAY=1))\n",
    "print(mean_air_temp_monthly.head())\n"
   ]
  },
  {
   "cell_type": "code",
   "execution_count": 94,
   "metadata": {},
   "outputs": [
    {
     "name": "stdout",
     "output_type": "stream",
     "text": [
      "        Date  monthly_temp_anomaly_relative_1992_2018\n",
      "0 2018-01-01                                -0.791252\n",
      "1 2019-01-01                                -1.233763\n",
      "2 2020-01-01                                -2.886413\n",
      "3 2021-01-01                                 3.370039\n",
      "4 2022-01-01                                 2.902700\n"
     ]
    }
   ],
   "source": [
    "# Extract dataframes of daily mean temperatures for 1992-2018 and 2018-2023. \n",
    "ilulissat_1992_2018_monthly = mean_air_temp_monthly.loc[(mean_air_temp_monthly['Date'] >= '1992-01-01') & (mean_air_temp_daily['Date'] <= '2018-01-01')]\n",
    "ilulissat_2018_2023_monthly = mean_air_temp_monthly.loc[(mean_air_temp_monthly['Date'] >= '2018-01-01') & (mean_air_temp_daily['Date'] <= '2023-01-01')]\n",
    "\n",
    "# For the period 1992-2018, calculate the mean temperature for each month across all years. \n",
    "ilulissat_1992_2018_monthly_mean = ilulissat_1992_2018_monthly.groupby('Month')['mean_air_temp'].mean().reset_index()\n",
    "\n",
    "# For the period 2018-2023, calculate the mean temperature for each month for each given year. \n",
    "ilulissat_2018_2023_monthly_mean = ilulissat_2018_2023_monthly.groupby(['Year', 'Month'])['mean_air_temp'].mean().reset_index()\n",
    "\n",
    "# For the period 2018-2023, calculate the monthly air temperature anomaly relative to the period 1992-2018.\n",
    "ilulissat_2018_2023_anomaly = pd.merge(ilulissat_2018_2023_monthly_mean, ilulissat_1992_2018_monthly_mean, on='Month', suffixes=('_2018_2023', '_1992_2018'))\n",
    "ilulissat_2018_2023_anomaly['monthly_temp_anomaly_relative_1992_2018'] = ilulissat_2018_2023_anomaly['mean_air_temp_2018_2023'] - ilulissat_2018_2023_anomaly['mean_air_temp_1992_2018']\n",
    "ilulissat_2018_2023_anomaly['Date'] = pd.to_datetime(ilulissat_2018_2023_anomaly[['Year', 'Month']].assign(DAY=1))\n",
    "ilulissat_2018_2023_anomaly.drop(['mean_air_temp_2018_2023', 'mean_air_temp_1992_2018',  'Year', 'Month'], axis=1, inplace=True)\n",
    "ilulissat_2018_2023_anomaly = ilulissat_2018_2023_anomaly[['Date', 'monthly_temp_anomaly_relative_1992_2018']]\n",
    "print(ilulissat_2018_2023_anomaly.head())"
   ]
  },
  {
   "cell_type": "code",
   "execution_count": 99,
   "metadata": {},
   "outputs": [
    {
     "data": {
      "image/png": "[encoded data removed]",
      "text/plain": [
       "<Figure size 648x288 with 1 Axes>"
      ]
     },
     "metadata": {
      "needs_background": "light"
     },
     "output_type": "display_data"
    }
   ],
   "source": [
    "# PLOT AIR TEMPERATURE ANOMALY GRAPH FOR ILULISSAT MITTAFIK \n",
    "plt.rcParams[\"font.family\"] = \"Arial\"\n",
    "fig, ax = plt.subplots(figsize=(9, 4))\n",
    "ax.axhline(y=0, color='gray', linestyle='-', linewidth=0.8) \n",
    "plt.grid(axis = 'x', alpha=0.5, linestyle='-', color='black')\n",
    "ax.xaxis.grid(True, which='minor', linestyle='--', alpha=0.3)\n",
    "plt.title('Ilulissat Mittarfik', pad=10, fontsize=11, fontweight='bold')\n",
    "plt.ylabel(\"Monthly air temperature anomaly \\n relative to 1992-2018 (\\u00B0C)\", labelpad=10, fontsize=12, linespacing=1.1) \n",
    "plt.xlabel('Year', labelpad=3, fontsize=12)\n",
    "\n",
    "# FORMAT THE X-AXIS TICK LIMITS  \n",
    "year_locator = mdates.YearLocator(base=1, month=1, day=1)\n",
    "ax.xaxis.set_major_locator(year_locator)\n",
    "ax.xaxis.set_major_formatter(mdates.DateFormatter(\"%Y\"))\n",
    "min_x_value = pd.to_datetime('2018-01-01', format='%Y-%m-%d')\n",
    "max_x_value = pd.to_datetime('2023-01-01', format='%Y-%m-%d')\n",
    "plt.xlim(min_x_value, max_x_value)\n",
    "three_month_intervals = mdates.MonthLocator(interval=3)\n",
    "ax.xaxis.set_minor_locator(three_month_intervals)\n",
    "\n",
    "# SET THE Y AXIS TICK LIMITS, ADDING A '+' BEFORE POSITIVE VALUES \n",
    "plt.ylim(-5, 6)\n",
    "plt.yticks(np.arange(-5, 6+1, 1))\n",
    "def format_positive(value, tick_number):\n",
    "    if value >= 0:\n",
    "        return f'+{value:.1f}'\n",
    "    else:\n",
    "        return f'{value:.1f}'\n",
    "ax.yaxis.set_major_formatter(ticker.FuncFormatter(format_positive))\n",
    "\n",
    "# DEFINE A CUSTOM BLUE & RED COLOUR MAP \n",
    "blue_cmap = LinearSegmentedColormap.from_list('custom_blue', ['#0a4c65', '#caf0f8'], N=256)\n",
    "red_cmap = LinearSegmentedColormap.from_list('custom_red', ['#ffe81a', '#d00000'], N=256)\n",
    "norm = plt.Normalize(ilulissat_2018_2023_anomaly['monthly_temp_anomaly_relative_1992_2018'].min(), ilulissat_2018_2023_anomaly['monthly_temp_anomaly_relative_1992_2018'].max())\n",
    "\n",
    "# PLOT THE DATA WITH THE CUSTOM COLOUR MAPS\n",
    "for index, row in ilulissat_2018_2023_anomaly.iterrows():\n",
    "    anomaly_value = row['monthly_temp_anomaly_relative_1992_2018']\n",
    "    if not pd.isna(anomaly_value):\n",
    "        color = red_cmap(norm(anomaly_value)) if anomaly_value >= 0 else blue_cmap(norm(anomaly_value))\n",
    "        ax.bar(row['Date'], anomaly_value, width=20, color=color)\n",
    "\n",
    "ax.tick_params(axis='x', labelsize=11)\n",
    "plt.savefig('R:/JAKOBSHAVN/air_temp.png', dpi=300)\n",
    "plt.show()"
   ]
  }
 ],
 "metadata": {
  "kernelspec": {
   "display_name": "velocity_download",
   "language": "python",
   "name": "python3"
  },
  "language_info": {
   "codemirror_mode": {
    "name": "ipython",
    "version": 3
   },
   "file_extension": ".py",
   "mimetype": "text/x-python",
   "name": "python",
   "nbconvert_exporter": "python",
   "pygments_lexer": "ipython3",
   "version": "3.11.4"
  }
 },
 "nbformat": 4,
 "nbformat_minor": 2
}
