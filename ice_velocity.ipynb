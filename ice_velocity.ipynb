{
 "cells": [
  {
   "cell_type": "markdown",
   "metadata": {},
   "source": [
    "# Ice Surface Velocity "
   ]
  },
  {
   "cell_type": "code",
   "execution_count": 1,
   "metadata": {},
   "outputs": [],
   "source": [
    "# IMPORT REQUIRED MODULES [velocity_download environment]\n",
    "import os\n",
    "import csv\n",
    "import json\n",
    "import geopandas as gpd\n",
    "import pandas as pd\n",
    "import xarray as xr\n",
    "from datetime import datetime\n",
    "from shapely.geometry import box\n",
    "from urllib.request import urlopen"
   ]
  },
  {
   "cell_type": "markdown",
   "metadata": {},
   "source": [
    "## ITS LIVE (2018-2023)\n",
    "The first block of this script will download all available 6-day and 12-day velocity pairs between 2018 and 2023 using the ITS LIVE Zarr Datacubes (https://its-live.jpl.nasa.gov/). Sequential identifiers are used to ensure that files with duplicate filenames are all saved."
   ]
  },
  {
   "cell_type": "markdown",
   "metadata": {},
   "source": [
    "Calculate the number of datacubes intersecting the specified study region."
   ]
  },
  {
   "cell_type": "code",
   "execution_count": 50,
   "metadata": {},
   "outputs": [
    {
     "name": "stdout",
     "output_type": "stream",
     "text": [
      "The number of datacubes intersecting the study region is: 1\n"
     ]
    }
   ],
   "source": [
    "# DEFINE THE OUTPUT DIRECTORY TO WHICH THE 6-DAY PAIRS SHOULD BE DOWNLOADED\n",
    "output_dir = 'C:/Users/s2451953/Desktop/TEST/'\n",
    "if not os.path.exists(output_dir):\n",
    "    os.mkdir(output_dir)\n",
    "\n",
    "# DEFINE THE STUDY REGION FOR THE 6-DAY PAIRS (JAKOBSHAVN ISBRAE)\n",
    "bounds = -190000, -2290000, -145000, -2260000 # xmin, ymin, xmax, ymax\n",
    "aoi_3413 = gpd.GeoDataFrame(geometry=[box(*(bounds))], crs=3413)\n",
    "\n",
    "# SEARCH AND PRINT THE NUMBER OF DATACUBES INTERSECTING THE STUDY REGION\n",
    "url = 'https://its-live-data.s3.amazonaws.com/datacubes/catalog_v02.json'\n",
    "response = urlopen(url)\n",
    "data_json = json.loads(response.read())\n",
    "df = pd.read_json('https://its-live-data.s3.amazonaws.com/datacubes/catalog_v02.json')\n",
    "gdf = gpd.GeoDataFrame.from_features(df[\"features\"])\n",
    "gdf = gdf[gdf['epsg']==3413]\n",
    "gdf = gdf.set_crs(4326).to_crs(3413)\n",
    "gdf_intsct = gdf[gdf.intersects(aoi_3413.geometry.values[0])]\n",
    "number_of_datacubes = len(gdf_intsct)\n",
    "print('The number of datacubes intersecting the study region is:', number_of_datacubes)"
   ]
  },
  {
   "cell_type": "markdown",
   "metadata": {},
   "source": [
    "Prepare the files to be downloaded, specifying only 6-day and 12-day pairs should be included. "
   ]
  },
  {
   "cell_type": "code",
   "execution_count": 51,
   "metadata": {},
   "outputs": [
    {
     "name": "stdout",
     "output_type": "stream",
     "text": [
      "Preparing dataset from tile ITS_LIVE_vel_EPSG3413_G0120_X-150000_Y-2250000\n",
      "Appending to list.\n"
     ]
    }
   ],
   "source": [
    "# PREPARE DATA STRUCTURES TO PROCESS THE ZARR FILES\n",
    "url_zarr_list = gdf_intsct.zarr_url.values\n",
    "xds_list = []\n",
    "fn_list = []\n",
    "filename_counts = {}\n",
    "\n",
    "for url_zarr in url_zarr_list:\n",
    "    filename = os.path.basename(url_zarr).split('.')[0]\n",
    "    fn_list.append(filename)\n",
    "    print(f'Preparing dataset from tile {filename}')\n",
    "    xds = xr.open_zarr(url_zarr) # Open the ZARR file in xarray\n",
    "    if filename in filename_counts: # Modify the filename to include a sequential identifier\n",
    "        filename_counts[filename] += 1\n",
    "        identifier = f'T{filename_counts[filename]}' # Append 'T' and the count\n",
    "    else:\n",
    "        filename_counts[filename] = 1\n",
    "        identifier = ''  # No identifier added if it is the first occurrence of the filename\n",
    "    filename = f'{filename}{identifier}'\n",
    "    xds = xds[['satellite_img1','satellite_img2','acquisition_date_img1','acquisition_date_img2', 'date_dt','v']]\n",
    "    xds = xds.rio.write_crs('epsg:3413')\n",
    "    xds = xds.rio.clip(aoi_3413.geometry) # Clip to the study region\n",
    "    xds = xds.where(((xds.date_dt.dt.days == 6) | (xds.date_dt.dt.days == 12)).compute(), drop=True) # Include 6-day and 12-day Pairs\n",
    "    xds = xds.where(((xds.satellite_img1 == '1A') | (xds.satellite_img1 == '1B')).compute(), drop=True)\n",
    "    var_obj_list = ['satellite_img1', 'satellite_img2']\n",
    "    for var in var_obj_list:\n",
    "        xds[var] = xds[var].astype('str')\n",
    "    xds = xds.chunk()\n",
    "    xds_list.append(xds)\n",
    "    print(f'Appending to list.')"
   ]
  },
  {
   "cell_type": "markdown",
   "metadata": {},
   "source": [
    "Download the specified 6-day and 12-day tiff files to the defined output directory."
   ]
  },
  {
   "cell_type": "code",
   "execution_count": 52,
   "metadata": {},
   "outputs": [
    {
     "name": "stdout",
     "output_type": "stream",
     "text": [
      "Computing dataset ITS_LIVE_vel_EPSG3413_G0120_X-150000_Y-2250000. This may take a while...\n",
      "Computed dataset. Saving images...\n",
      "Saved images.\n"
     ]
    }
   ],
   "source": [
    "# LOOP THROUGH THE XDS_LIST AND FN_LIST TOGETHER\n",
    "for xds, filename in zip(xds_list, fn_list):\n",
    "    if not os.path.exists(f'{output_dir}/{filename}'):\n",
    "        os.mkdir(f'{output_dir}/{filename}')\n",
    "    print(f'Computing dataset {filename}. This may take a while...')\n",
    "    with xds.compute() as xds:\n",
    "        print(f'Computed dataset. Saving images...')\n",
    "        filename_counts = {}\n",
    "        for _, x in xds.groupby('mid_date'):\n",
    "            outname = f'{x.acquisition_date_img1.dt.date.values[0]}_{x.acquisition_date_img2.dt.date.values[0]}_S{x.satellite_img1.values[0]}_S{x.satellite_img2.values[0]}'\n",
    "            if outname in filename_counts:\n",
    "                filename_counts[outname] += 1\n",
    "                identifier = f'_T{filename_counts[outname]}'   \n",
    "            else:\n",
    "                filename_counts[outname] = 1\n",
    "                identifier = '' \n",
    "            if identifier == '_T1':\n",
    "                identifier = ''\n",
    "            outfpath = f'{output_dir}/{filename}/{outname}{identifier}.tif'\n",
    "            x.v.rio.to_raster(outfpath, compress='ZSTD', predictor=3, zlevel=1)\n",
    "        print('Saved images.')"
   ]
  },
  {
   "cell_type": "markdown",
   "metadata": {},
   "source": [
    "Delete any tiff files within the output directory that don't fall within a specified date range (2018-2023)."
   ]
  },
  {
   "cell_type": "code",
   "execution_count": 53,
   "metadata": {},
   "outputs": [
    {
     "name": "stdout",
     "output_type": "stream",
     "text": [
      "Deletion of tiff files outside the desired study period complete.\n"
     ]
    }
   ],
   "source": [
    "# DELETE ANY FILES WHICH HAVE A 'MID-DATE' OUTSIDE OF THE DESIRED DATE RANGE\n",
    "start_date = datetime(2018, 1, 1)\n",
    "end_date = datetime(2022, 12, 31)\n",
    "filtered_files = []\n",
    "directory = 'C:/Users/s2451953/Desktop/TEST/ITS_LIVE_vel_EPSG3413_G0120_X-150000_Y-2250000'\n",
    "\n",
    "for filename in os.listdir(directory):\n",
    "    if filename.endswith('.tif'):\n",
    "        parts = filename.split('_')\n",
    "        file_end_date = datetime.strptime(parts[1], '%Y-%m-%d')\n",
    "        if file_end_date < start_date or file_end_date > end_date:\n",
    "            file_path = os.path.join(directory, filename)\n",
    "            os.remove(file_path)\n",
    "print(\"Deletion of tiff files outside the desired study period complete.\")"
   ]
  },
  {
   "cell_type": "markdown",
   "metadata": {},
   "source": [
    "The second section of this script will sample each 6-day and 12-day velocity tiff file at specified sampling points."
   ]
  },
  {
   "cell_type": "code",
   "execution_count": null,
   "metadata": {},
   "outputs": [],
   "source": [
    "# IMPORT REQUIRED MODULES [velocity_merge]\n",
    "import os\n",
    "import csv\n",
    "from osgeo import gdal\n",
    "import numpy as np\n",
    "import datetime"
   ]
  },
  {
   "cell_type": "markdown",
   "metadata": {},
   "source": [
    "Define the input and output file directories and provide the coordinates of the desired sampling locations. The code will sample velocity at these sampling locations and save the data to a CSV. For each data point, the filename of the tiff will be provided, with the start date, end date and mid date also shown. "
   ]
  },
  {
   "cell_type": "code",
   "execution_count": 8,
   "metadata": {},
   "outputs": [
    {
     "name": "stdout",
     "output_type": "stream",
     "text": [
      "Data extracted and saved to 'C:/Users/s2451953/Desktop/TEST/ITS_LIVE_SAMPLED.csv'.\n"
     ]
    }
   ],
   "source": [
    "# DEFINE THE REGION AND PROVIDE THE FILEPATH TO THE GEOTIFFS\n",
    "folder_path = 'C:/Users/s2451953/Desktop/TEST/ITS_LIVE_vel_EPSG3413_G0120_X-150000_Y-2250000'\n",
    "\n",
    "# DEFINE THE OUTPUT CSV FILE LOCATION AND NAME\n",
    "csv_file = 'C:/Users/s2451953/Desktop/TEST/ITS_LIVE_SAMPLED.csv'\n",
    "\n",
    "# LIST THE X AND Y CO-ORDINATES AT WHICH VELOCITY SHOULD BE EXTRACTED\n",
    "coordinates = [(-180091.9495, -2278118.175),  \n",
    "    (-176595.9169, -2281533.351),\n",
    "    (-171733.1094, -2280782.72),\n",
    "    (-166897.6833, -2279795.733),\n",
    "    (-161907.8652, -2279370.56),\n",
    "    (-157584.877, -2279370.56),\n",
    "    (-153231.406, -2279370.56),]\n",
    "\n",
    "# CREATE A CSV THAT WILL SAMPLE VELOCITY FROM EACH POINT, PROVIDING DETAILS OF THE CORRESPONDING FILENAME, START DATE, END DATE AND MID DATE\n",
    "csv_headers = ['Filename', 'start_date', 'end_date', 'mid_date']\n",
    "for i, (x, y) in enumerate(coordinates, start=1):\n",
    "    csv_headers.append(f'POINT_{i}_VELOCITY')  # Custom column headers for each point's velocity\n",
    "with open(csv_file, 'w', newline='') as csvfile:\n",
    "    csv_writer = csv.writer(csvfile)\n",
    "    csv_writer.writerow(csv_headers)\n",
    "    for filename in os.listdir(folder_path):\n",
    "        if filename.endswith('.tif') or filename.endswith('.tiff'):\n",
    "            file_path = os.path.join(folder_path, filename)\n",
    "            date_parts = filename.split('_')\n",
    "            start_date = date_parts[0]\n",
    "            end_date = date_parts[1]\n",
    "            start_date_obj = datetime.datetime.strptime(start_date, \"%Y-%m-%d\")\n",
    "            end_date_obj = datetime.datetime.strptime(end_date, \"%Y-%m-%d\")\n",
    "            mid_date_obj = start_date_obj + (end_date_obj - start_date_obj) / 2\n",
    "            mid_date = mid_date_obj.strftime(\"%Y/%m/%d\")\n",
    "            dataset = gdal.Open(file_path, gdal.GA_ReadOnly)\n",
    "            if dataset is not None:\n",
    "                values = [filename, start_date, end_date, mid_date]\n",
    "                for x, y in coordinates:\n",
    "                    geotransform = dataset.GetGeoTransform()\n",
    "                    x_pixel = int((x - geotransform[0]) / geotransform[1])\n",
    "                    y_pixel = int((y - geotransform[3]) / geotransform[5])\n",
    "                    band = dataset.GetRasterBand(1)\n",
    "                    value = band.ReadAsArray(x_pixel, y_pixel, 1, 1)[0][0]\n",
    "                    if np.isnan(value):\n",
    "                        value = ''\n",
    "                    values.append(value)\n",
    "                csv_writer.writerow(values)\n",
    "                dataset = None\n",
    "\n",
    "print(f\"Data extracted and saved to '{csv_file}'.\")"
   ]
  },
  {
   "cell_type": "markdown",
   "metadata": {},
   "source": [
    "The third section of this script will use the outputted CSV file to plot a timeseries of velocity at the sampling points (2018-2023)"
   ]
  },
  {
   "cell_type": "code",
   "execution_count": 5,
   "metadata": {},
   "outputs": [],
   "source": [
    "# IMPORT MODULES [velocity_download environment]\n",
    "import pandas as pd\n",
    "import matplotlib.pyplot as plt\n",
    "import matplotlib.dates as mdates\n",
    "import matplotlib.ticker as ticker\n",
    "import numpy as np \n",
    "import datetime"
   ]
  },
  {
   "cell_type": "code",
   "execution_count": 10,
   "metadata": {},
   "outputs": [],
   "source": [
    "# OPEN THE ITS_LIVE 6-DAY PAIRS CSV FILE \n",
    "ITS_LIVE_data = pd.read_csv(r'C:/Users/s2451953/Desktop/TEST/ITS_LIVE_SAMPLED.csv')\n",
    "\n",
    "# DEFINE THE VELOCITY VARIABLE FOR EACH POINT\n",
    "POINT1_VELOCITY = ITS_LIVE_data['POINT_1_VELOCITY']\n",
    "POINT2_VELOCITY = ITS_LIVE_data['POINT_2_VELOCITY']\n",
    "POINT3_VELOCITY = ITS_LIVE_data['POINT_3_VELOCITY']\n",
    "POINT4_VELOCITY = ITS_LIVE_data['POINT_4_VELOCITY']\n",
    "POINT5_VELOCITY = ITS_LIVE_data['POINT_5_VELOCITY']\n",
    "POINT6_VELOCITY = ITS_LIVE_data['POINT_6_VELOCITY']\n",
    "POINT7_VELOCITY = ITS_LIVE_data['POINT_7_VELOCITY']\n",
    "\n",
    "# DEFINE THE MID-DATE VARIABLE\n",
    "ITS_LIVE_data['mid_date'] = pd.to_datetime(ITS_LIVE_data['mid_date'], format='%Y/%m/%d')\n",
    "\n",
    "# INPUT DESIRED X AXIS, Y AXIS, AND PLOT TITLES\n",
    "xtitle = 'Date'\n",
    "ytitle = 'Ice Velocity (km/yr)'\n",
    "title = 'Jakobshavn Isbræ Ice Velocity (2018-2023)'"
   ]
  },
  {
   "cell_type": "code",
   "execution_count": 18,
   "metadata": {},
   "outputs": [
    {
     "data": {
      "image/png": "[encoded data removed]",
      "text/plain": [
       "<Figure size 432x288 with 1 Axes>"
      ]
     },
     "metadata": {
      "needs_background": "light"
     },
     "output_type": "display_data"
    }
   ],
   "source": [
    "# CREATE A PLOT WITH GRID LINES\n",
    "plt.rcParams[\"font.family\"] = \"Arial\"\n",
    "fig, ax = plt.subplots(figsize=(6, 4))\n",
    "plt.title(title, pad=10, fontsize=10)\n",
    "plt.grid(axis = 'x', alpha=0.3, zorder=0)\n",
    "plt.grid(axis = 'y', alpha=0.3, zorder=0)\n",
    "plt.ylabel(ytitle, labelpad=10, fontsize=10)\n",
    "plt.xlabel(xtitle, labelpad=10)\n",
    "\n",
    "# PLOT A SCATTER PLOT FOR EACH POINT\n",
    "plt.scatter(ITS_LIVE_data['mid_date'], POINT1_VELOCITY/1000, color='#a30b37', s=7, marker='o', alpha=0.85, label='T', zorder=20)\n",
    "plt.scatter(ITS_LIVE_data['mid_date'], POINT2_VELOCITY/1000, color='#f77f00', s=7, marker='o', alpha=0.85, label='T5', zorder=20)\n",
    "plt.scatter(ITS_LIVE_data['mid_date'], POINT3_VELOCITY/1000, color='#1c7c54', s=7, marker='o', alpha=0.85, label='T10', zorder=20)\n",
    "plt.scatter(ITS_LIVE_data['mid_date'], POINT4_VELOCITY/1000, color='#219ebc', s=7, marker='o', alpha=0.85, label='T15', zorder=20)\n",
    "plt.scatter(ITS_LIVE_data['mid_date'], POINT5_VELOCITY/1000, color='#10678e', s=7, marker='o', alpha=0.85, label='T20', zorder=20)\n",
    "plt.scatter(ITS_LIVE_data['mid_date'], POINT7_VELOCITY/1000, color='#023047', s=7, marker='o', alpha=0.85, label='T30', zorder=20)\n",
    "\n",
    "# SET THE X AXIS TICK LIMITS\n",
    "plt.ylim(0, 18)\n",
    "plt.yticks(np.arange(0, 18+1, 2))\n",
    "\n",
    "# DEFINE THE FORMATTING FOR THE X-TICKS\n",
    "year_locator = mdates.YearLocator(base=1, month=1, day=1)\n",
    "ax.xaxis.set_major_locator(year_locator)\n",
    "ax.xaxis.set_major_formatter(mdates.DateFormatter(\"%Y\"))\n",
    "min_x_value = pd.to_datetime('2018-01-01', format='%Y-%m-%d')\n",
    "max_x_value = pd.to_datetime('2023-01-01', format='%Y-%m-%d')\n",
    "plt.xlim(min_x_value, max_x_value)\n",
    "three_month_intervals = mdates.MonthLocator(interval=3)\n",
    "ax.xaxis.set_minor_locator(three_month_intervals)\n",
    "\n",
    "# ADD A LEGEND WITH THREE COLUMNS, HORIZONTAL ARRANGEMENT, AND WHITE BACKGROUND\n",
    "legend = plt.legend(loc='upper left', ncol=7, columnspacing=0.3, markerscale=2, frameon=True, framealpha=1, handletextpad=0.1, fontsize = 9, facecolor='white', borderaxespad = 0.9, borderpad=0.5, fancybox=False)\n",
    "legend.get_frame().set_edgecolor('black')\n",
    "legend.get_frame().set_linewidth(1)\n",
    "legend.set_zorder(20)\n",
    "for text in legend.get_texts():\n",
    "    text.set_va('center')\n",
    "\n",
    "plt.tight_layout()"
   ]
  }
 ],
 "metadata": {
  "kernelspec": {
   "display_name": "velocity_download",
   "language": "python",
   "name": "python3"
  },
  "language_info": {
   "codemirror_mode": {
    "name": "ipython",
    "version": 3
   },
   "file_extension": ".py",
   "mimetype": "text/x-python",
   "name": "python",
   "nbconvert_exporter": "python",
   "pygments_lexer": "ipython3",
   "version": "3.11.4"
  }
 },
 "nbformat": 4,
 "nbformat_minor": 2
}
